{
 "cells": [
  {
   "cell_type": "markdown",
   "metadata": {},
   "source": [
    "# Canopy Experiments\n",
    "This notebook covers some basic experiments with the [Canopy SDK](https://www.pinecone.io/blog/canopy-rag-framework/) by Pinecone. In this notebook, we will show how to:\n",
    "1. Programatically upsert new documents to our Canopy Index\n",
    "2. Progamatically query our canopy index, with metadata filters\n",
    "    - The metadata filters will be used to create partitons for the index"
   ]
  },
  {
   "cell_type": "code",
   "execution_count": 4,
   "metadata": {},
   "outputs": [],
   "source": [
    "import os\n",
    "from dotenv import load_dotenv\n",
    "\n",
    "load_dotenv()\n",
    "\n",
    "# We have PINECONE_API_KEY, PINECONE_ENVIRONMENT, INDEX_NAME, and OPENAI_API_KEY as .env variables\n",
    "PINCECONE_API_KEY = os.getenv(\"PINECONE_API_KEY\")\n",
    "PINECONE_ENVIRONMENT = os.getenv(\"PINECONE_ENVIRONMENT\")\n",
    "INDEX_NAME = os.getenv(\"INDEX_NAME\")\n",
    "\n",
    "OPENAI_API_KEY = os.getenv(\"OPENAI_API_KEY\")\n",
    "\n",
    "assert PINCECONE_API_KEY is not None and PINECONE_ENVIRONMENT is not None and INDEX_NAME is not None and OPENAI_API_KEY is not None, \"Please set the environment variables in .env file\""
   ]
  },
  {
   "cell_type": "markdown",
   "metadata": {},
   "source": [
    "### Creating a Tokenizer\n",
    "\n",
    "As a prerequisite to the remaining cells in this notebook, we need to setup a tokenizer to use for tokenizing our data for the embeding model."
   ]
  },
  {
   "cell_type": "code",
   "execution_count": 7,
   "metadata": {},
   "outputs": [],
   "source": [
    "from canopy.tokenizer import Tokenizer\n",
    "Tokenizer.initialize()"
   ]
  },
  {
   "cell_type": "markdown",
   "metadata": {},
   "source": [
    "After initializing the global object, we can simply create an instance from anywhere in our code, without providing any parameters:"
   ]
  },
  {
   "cell_type": "code",
   "execution_count": 8,
   "metadata": {},
   "outputs": [
    {
     "data": {
      "text/plain": [
       "['Hello', ' world', '!']"
      ]
     },
     "execution_count": 8,
     "metadata": {},
     "output_type": "execute_result"
    }
   ],
   "source": [
    "from canopy.tokenizer import Tokenizer\n",
    "\n",
    "tokenizer = Tokenizer()\n",
    "tokenizer.tokenize(\"Hello world!\")"
   ]
  },
  {
   "cell_type": "markdown",
   "metadata": {},
   "source": [
    "### Upsert Data\n",
    "\n",
    "We will begin by programatically upserting data to the index. For this task, we can look in the `data/` directory in the root of the project. This directory will have some test files that we will use for parsing and upserting."
   ]
  },
  {
   "cell_type": "code",
   "execution_count": 12,
   "metadata": {},
   "outputs": [],
   "source": [
    "from canopy.knowledge_base import KnowledgeBase\n",
    "\n",
    "kb = KnowledgeBase(index_name=INDEX_NAME)\n",
    "kb.connect()"
   ]
  },
  {
   "cell_type": "markdown",
   "metadata": {},
   "source": [
    "Now that we have our `KnowledgeBase` initialized and connected, we can upsert our documents.\n",
    "\n",
    "Canopy uses the `Document` object to store information about Documents that are to be uploaded to canopy:\n",
    "```python\n",
    "example_docs = [Document(id=\"1\",\n",
    "                      text=\"This is text for example\",\n",
    "                      source=\"https://url.com\"),\n",
    "                Document(id=\"2\",\n",
    "                        text=\"this is another text\",\n",
    "                        source=\"https://another-url.com\",\n",
    "                        metadata={\"my-key\": \"my-value\"})]\n",
    "```\n",
    "\n",
    "For each document that we want to upload, we should create a random UUID for the doc, a URL if the document is publically available, and metadata, which will be used when querying the index."
   ]
  },
  {
   "cell_type": "code",
   "execution_count": 68,
   "metadata": {},
   "outputs": [
    {
     "data": {
      "text/plain": [
       "[Document(id='3bd6ddbe-9195-4dde-83e1-7f962768dbde', text='Recently, quantum algorithms that leverage real-time evolution under a many-body Hamiltonian have proven to be exceptionally effective in estimating individual eigenvalues near the edge of the Hamiltonian spectrum, such as the ground state energy. By contrast, evaluating the trace of an operator requires the aggregation of eigenvalues across the entire spectrum. In this work, we introduce an efficient near-term quantum algorithm for computing the trace of a broad class of operators, including matrix functions of the target Hamiltonian. Our trace estimator is similar to the classical Girard-Hutchinson estimator in that it involves the preparation of many random states. Although the exact Girard-Hutchinson estimator is not tractably realizable on a quantum computer, we can construct random states that match the variance of the Girard-Hutchinson estimator through only real-time evolution. Importantly, our random states are all generated using the same Hamiltonians for real-time evolution, with randomness owing only to stochastic variations in the duration of the evolutions. In this sense, the circuit is reconfigurable and suitable for realization on both digital and analog platforms. For numerical illustration, we highlight important applications in the physical, chemical, and materials sciences, such as calculations of density of states and free energy.', source='', metadata={'value': 'hello'}),\n",
       " Document(id='46787dbe-1190-474a-8cc9-4a4a0f80f160', text='The non-equilibrium physics of many-body quantum systems harbors various unconventional phenomena. In this study, we experimentally investigate one of the most puzzling of these phenomena -- the quantum Mpemba effect, where a tilted ferromagnet restores its symmetry more rapidly when it is farther from the symmetric state compared to when it is closer. We present the first experimental evidence of the occurrence of this effect in a trapped-ion quantum simulator. The symmetry breaking and restoration are monitored through entanglement asymmetry, probed via randomized measurements, and postprocessed using the classical shadows technique. Our findings are further substantiated by measuring the Frobenius distance between the experimental state and the stationary thermal symmetric theoretical state, offering direct evidence of subsystem thermalization.', source='', metadata={'value': 'hello'}),\n",
       " Document(id='1f636223-796e-4980-b979-e908b9d02e38', text=\"Quantum communication implementations require efficient and reliable quantum channels. Optical fibers have proven to be an ideal candidate for distributing quantum states. Thus, today's efforts address overcoming issues towards high data transmission and long-distance implementations. Here, we experimentally demonstrate the secret key rate enhancement via space-division multiplexing using a multicore fiber. Our multiplexing technique exploits the momentum correlation of photon pairs generated by spontaneous parametric down-conversion. We distributed polarization-entangled photon pairs into opposite cores within a 19-core multicore fiber. We estimated the secret key rates in a configuration with 6 and 12 cores from the entanglement visibility after transmission through 411 m long multicore fiber.\", source='', metadata={'value': 'hello'})]"
      ]
     },
     "execution_count": 68,
     "metadata": {},
     "output_type": "execute_result"
    }
   ],
   "source": [
    "import glob\n",
    "from uuid import uuid4\n",
    "from canopy.models.data_models import Document\n",
    "\n",
    "file_paths = glob.glob('../data/sample-docs/*')\n",
    "\n",
    "documents = []\n",
    "for f_path in file_paths:\n",
    "    name = f_path.split('/')[-1]\n",
    "    with open(f_path, 'r') as f:\n",
    "        text = f.read()\n",
    "    doc = Document(id=str(uuid4()), text=text, metadata={'value': 'hello'})\n",
    "    documents.append(doc)\n",
    "documents"
   ]
  },
  {
   "cell_type": "markdown",
   "metadata": {},
   "source": [
    "Now that we have our document objects created, we can upload them to the Knowledge Base"
   ]
  },
  {
   "cell_type": "code",
   "execution_count": 69,
   "metadata": {},
   "outputs": [],
   "source": [
    "kb.upsert(documents)"
   ]
  },
  {
   "cell_type": "markdown",
   "metadata": {},
   "source": [
    "### Query the Knowledge Base\n",
    "\n",
    "Now that we have the knowledge base populated with some sample documents, we are ready to query the knowledge base using Canopy."
   ]
  },
  {
   "cell_type": "code",
   "execution_count": 73,
   "metadata": {},
   "outputs": [],
   "source": [
    "import json\n",
    "\n",
    "def print_query_results(results):\n",
    "    for query_results in results:\n",
    "        print('query: ' + query_results.query + '\\n')\n",
    "        for document in query_results.documents:\n",
    "            print('document: ' + document.text.replace(\"\\n\", \"\\\\n\"))\n",
    "            print(\"metadata: \" + json.dumps(document.metadata))\n",
    "            print(f\"score: {document.score}\\n\")"
   ]
  },
  {
   "cell_type": "code",
   "execution_count": 87,
   "metadata": {},
   "outputs": [
    {
     "name": "stdout",
     "output_type": "stream",
     "text": [
      "query: What is an effective way of distributing quantum states.\n",
      "\n",
      "document: Quantum communication implementations require efficient and reliable quantum channels. Optical fibers have proven to be an ideal candidate for distributing quantum states. Thus, today's efforts address overcoming issues towards high data transmission and long-distance implementations. Here, we experimentally demonstrate the secret key rate enhancement via space-division multiplexing using a multicore fiber. Our multiplexing technique exploits the momentum correlation of photon pairs generated by spontaneous parametric down-conversion. We distributed polarization-entangled photon pairs into opposite cores within a 19-core multicore fiber. We estimated the secret key rates in a configuration with 6 and 12 cores from the entanglement visibility after transmission through 411 m long multicore fiber.\n",
      "metadata: {\"value\": \"hello\"}\n",
      "score: 0.848302126\n",
      "\n",
      "document: Recently, quantum algorithms that leverage real-time evolution under a many-body Hamiltonian have proven to be exceptionally effective in estimating individual eigenvalues near the edge of the Hamiltonian spectrum, such as the ground state energy. By contrast, evaluating the trace of an operator requires the aggregation of eigenvalues across the entire spectrum. In this work, we introduce an efficient near-term quantum algorithm for computing the trace of a broad class of operators, including matrix functions of the target Hamiltonian. Our trace estimator is similar to the classical Girard-Hutchinson estimator in that it involves the preparation of many random states. Although the exact Girard-Hutchinson estimator is not tractably realizable on a quantum computer, we can construct random states that match the variance of the Girard-Hutchinson estimator through only real-time evolution. Importantly, our random states are all generated using the same Hamiltonians for real-time evolution, with randomness owing only to stochastic variations in the duration of the evolutions. In this sense, the circuit is reconfigurable and suitable for realization on both digital and analog platforms. For numerical illustration, we highlight important applications in the physical, chemical, and materials sciences, such as calculations of density of states and free energy.\n",
      "metadata: {\"value\": \"hello\"}\n",
      "score: 0.83098793\n",
      "\n",
      "document: The non-equilibrium physics of many-body quantum systems harbors various unconventional phenomena. In this study, we experimentally investigate one of the most puzzling of these phenomena -- the quantum Mpemba effect, where a tilted ferromagnet restores its symmetry more rapidly when it is farther from the symmetric state compared to when it is closer. We present the first experimental evidence of the occurrence of this effect in a trapped-ion quantum simulator. The symmetry breaking and restoration are monitored through entanglement asymmetry, probed via randomized measurements, and postprocessed using the classical shadows technique. Our findings are further substantiated by measuring the Frobenius distance between the experimental state and the stationary thermal symmetric theoretical state, offering direct evidence of subsystem thermalization.\n",
      "metadata: {\"value\": \"hello\"}\n",
      "score: 0.814953685\n",
      "\n"
     ]
    }
   ],
   "source": [
    "from canopy.models.data_models import Query\n",
    "\n",
    "query = Query(\n",
    "    text='What is an effective way of distributing quantum states.',\n",
    ")\n",
    "\n",
    "results = kb.query([query])\n",
    "print_query_results(results)"
   ]
  },
  {
   "cell_type": "markdown",
   "metadata": {},
   "source": [
    "In addition to simple queries, we can also use the ContextEngine to easily set a max content length. This will return the most relevant context up toa certain limit."
   ]
  },
  {
   "cell_type": "code",
   "execution_count": 91,
   "metadata": {},
   "outputs": [
    {
     "name": "stdout",
     "output_type": "stream",
     "text": [
      "[\n",
      "  {\n",
      "    \"query\": \"What is an effective way of distributing quantum states.\",\n",
      "    \"snippets\": [\n",
      "      {\n",
      "        \"source\": \"\",\n",
      "        \"text\": \"Quantum communication implementations require efficient and reliable quantum channels. Optical fibers have proven to be an ideal candidate for distributing quantum states. Thus, today's efforts address overcoming issues towards high data transmission and long-distance implementations. Here, we experimentally demonstrate the secret key rate enhancement via space-division multiplexing using a multicore fiber. Our multiplexing technique exploits the momentum correlation of photon pairs generated by spontaneous parametric down-conversion. We distributed polarization-entangled photon pairs into opposite cores within a 19-core multicore fiber. We estimated the secret key rates in a configuration with 6 and 12 cores from the entanglement visibility after transmission through 411 m long multicore fiber.\"\n",
      "      },\n",
      "      {\n",
      "        \"source\": \"\",\n",
      "        \"text\": \"Recently, quantum algorithms that leverage real-time evolution under a many-body Hamiltonian have proven to be exceptionally effective in estimating individual eigenvalues near the edge of the Hamiltonian spectrum, such as the ground state energy. By contrast, evaluating the trace of an operator requires the aggregation of eigenvalues across the entire spectrum. In this work, we introduce an efficient near-term quantum algorithm for computing the trace of a broad class of operators, including matrix functions of the target Hamiltonian. Our trace estimator is similar to the classical Girard-Hutchinson estimator in that it involves the preparation of many random states. Although the exact Girard-Hutchinson estimator is not tractably realizable on a quantum computer, we can construct random states that match the variance of the Girard-Hutchinson estimator through only real-time evolution. Importantly, our random states are all generated using the same Hamiltonians for real-time evolution, with randomness owing only to stochastic variations in the duration of the evolutions. In this sense, the circuit is reconfigurable and suitable for realization on both digital and analog platforms. For numerical illustration, we highlight important applications in the physical, chemical, and materials sciences, such as calculations of density of states and free energy.\"\n",
      "      }\n",
      "    ]\n",
      "  }\n",
      "]\n"
     ]
    }
   ],
   "source": [
    "from canopy.context_engine import ContextEngine\n",
    "\n",
    "# Instantiate the context engine with the knowledge base\n",
    "context_engine = ContextEngine(kb)\n",
    "\n",
    "result = context_engine.query([query], max_context_tokens = 512)\n",
    "print(result.to_text(indent=2))"
   ]
  },
  {
   "cell_type": "markdown",
   "metadata": {},
   "source": [
    "To demonstrate the token context limit, we can shrink the value of the `max_content_tokens` kwarg to return less context."
   ]
  },
  {
   "cell_type": "code",
   "execution_count": 93,
   "metadata": {},
   "outputs": [
    {
     "name": "stdout",
     "output_type": "stream",
     "text": [
      "[\n",
      "  {\n",
      "    \"query\": \"What is an effective way of distributing quantum states.\",\n",
      "    \"snippets\": [\n",
      "      {\n",
      "        \"source\": \"\",\n",
      "        \"text\": \"Quantum communication implementations require efficient and reliable quantum channels. Optical fibers have proven to be an ideal candidate for distributing quantum states. Thus, today's efforts address overcoming issues towards high data transmission and long-distance implementations. Here, we experimentally demonstrate the secret key rate enhancement via space-division multiplexing using a multicore fiber. Our multiplexing technique exploits the momentum correlation of photon pairs generated by spontaneous parametric down-conversion. We distributed polarization-entangled photon pairs into opposite cores within a 19-core multicore fiber. We estimated the secret key rates in a configuration with 6 and 12 cores from the entanglement visibility after transmission through 411 m long multicore fiber.\"\n",
      "      }\n",
      "    ]\n",
      "  }\n",
      "]\n"
     ]
    }
   ],
   "source": [
    "result = context_engine.query([query], max_context_tokens=256)\n",
    "print(result.to_text(indent=2))"
   ]
  },
  {
   "cell_type": "markdown",
   "metadata": {},
   "source": [
    "Finally, if we chunk or text too large, we can see that we will get no context if no results can fit in the required context window."
   ]
  },
  {
   "cell_type": "code",
   "execution_count": 94,
   "metadata": {},
   "outputs": [
    {
     "name": "stdout",
     "output_type": "stream",
     "text": [
      "[]\n"
     ]
    }
   ],
   "source": [
    "result = context_engine.query([query], max_context_tokens=128)\n",
    "print(result.to_text(indent=2))"
   ]
  },
  {
   "cell_type": "markdown",
   "metadata": {},
   "source": [
    "### Customization\n",
    "\n",
    "In addition to using the canopy features out of the box, we also have the ability to customize the chunking and embedding process. This will be important for ensuring that we can store retrieve relevant context, regardless of the size of the context window. We should set a min context window size of 64 tokens. This should give us enough granularity to always return documents with enough context to provide complete answers."
   ]
  },
  {
   "cell_type": "code",
   "execution_count": 107,
   "metadata": {},
   "outputs": [
    {
     "data": {
      "text/plain": [
       "[KBDocChunk(id='3bd6ddbe-9195-4dde-83e1-7f962768dbde-0', text='Recently, quantum algorithms that leverage real-time evolution under a many-body Hamiltonian have proven to be exceptionally effective in estimating individual eigenvalues near the edge of the Hamiltonian spectrum, such as the ground state energy. By contrast, evaluating the trace of an operator requires the aggregation of eigenvalues across the entire spectrum. In this', source='', metadata={'value': 'hello'}, document_id='3bd6ddbe-9195-4dde-83e1-7f962768dbde'),\n",
       " KBDocChunk(id='3bd6ddbe-9195-4dde-83e1-7f962768dbde-64', text=' work, we introduce an efficient near-term quantum algorithm for computing the trace of a broad class of operators, including matrix functions of the target Hamiltonian. Our trace estimator is similar to the classical Girard-Hutchinson estimator in that it involves the preparation of many random states. Although the exact Girard-Hutchinson estimator', source='', metadata={'value': 'hello'}, document_id='3bd6ddbe-9195-4dde-83e1-7f962768dbde'),\n",
       " KBDocChunk(id='3bd6ddbe-9195-4dde-83e1-7f962768dbde-128', text=' is not tractably realizable on a quantum computer, we can construct random states that match the variance of the Girard-Hutchinson estimator through only real-time evolution. Importantly, our random states are all generated using the same Hamiltonians for real-time evolution, with randomness owing only to stochastic variations in the duration of', source='', metadata={'value': 'hello'}, document_id='3bd6ddbe-9195-4dde-83e1-7f962768dbde'),\n",
       " KBDocChunk(id='3bd6ddbe-9195-4dde-83e1-7f962768dbde-192', text=' the evolutions. In this sense, the circuit is reconfigurable and suitable for realization on both digital and analog platforms. For numerical illustration, we highlight important applications in the physical, chemical, and materials sciences, such as calculations of density of states and free energy.', source='', metadata={'value': 'hello'}, document_id='3bd6ddbe-9195-4dde-83e1-7f962768dbde')]"
      ]
     },
     "execution_count": 107,
     "metadata": {},
     "output_type": "execute_result"
    }
   ],
   "source": [
    "from typing import List\n",
    "\n",
    "from canopy.knowledge_base.chunker.base import Chunker\n",
    "from canopy.knowledge_base.models import KBDocChunk\n",
    "\n",
    "class TokenSizeChunker(Chunker):\n",
    "\n",
    "    def __init__(self, chunk_size: int = 64):\n",
    "        self.chunk_size = chunk_size\n",
    "        self.tokenizer = Tokenizer()\n",
    "\n",
    "    def chunk_single_document(self, document: Document) -> List[KBDocChunk]:\n",
    "        \"\"\"Chunk a single document into multiple 64 token chunks. With a stride of 32 tokens.\"\"\"\n",
    "        tokens = self.tokenizer.tokenize(document.text)\n",
    "        chunks = []\n",
    "        for i in range(0, len(tokens), self.chunk_size):\n",
    "            chunk = tokens[i:i + self.chunk_size]\n",
    "            chunk_text = self.tokenizer.detokenize(chunk)\n",
    "            chunks.append(KBDocChunk(\n",
    "                id=f\"{document.id}-{i}\",\n",
    "                document_id=document.id,\n",
    "                text=chunk_text,\n",
    "                metadata=document.metadata,\n",
    "            ))\n",
    "        return chunks\n",
    "\n",
    "    async def achunk_single_document(self, document: Document) -> List[KBDocChunk]:\n",
    "        \"\"\"Chunk a single document into multiple 64 token chunks. With a stride of 32 tokens.\"\"\"\n",
    "        raise NotImplementedError(\"Async chunking is not implemented yet.\")\n",
    "\n",
    "chunker = TokenSizeChunker()\n",
    "chunks = chunker.chunk_single_document(documents[0])"
   ]
  },
  {
   "cell_type": "markdown",
   "metadata": {},
   "source": [
    "Now that we have our chunker built, we can instantiate our knowledge base to use this chunker to process documents."
   ]
  },
  {
   "cell_type": "code",
   "execution_count": 110,
   "metadata": {},
   "outputs": [],
   "source": [
    "kb = KnowledgeBase(index_name=INDEX_NAME, chunker=chunker)\n",
    "kb.connect()\n",
    "\n",
    "kb.upsert(documents)"
   ]
  },
  {
   "cell_type": "markdown",
   "metadata": {},
   "source": [
    "Now, if we retry our query to fetch the documents with a small `max_context_tokens`, we should be able to get results."
   ]
  },
  {
   "cell_type": "code",
   "execution_count": 111,
   "metadata": {},
   "outputs": [
    {
     "name": "stdout",
     "output_type": "stream",
     "text": [
      "[\n",
      "  {\n",
      "    \"query\": \"What is an effective way of distributing quantum states.\",\n",
      "    \"snippets\": [\n",
      "      {\n",
      "        \"source\": \"\",\n",
      "        \"text\": \"Quantum communication implementations require efficient and reliable quantum channels. Optical fibers have proven to be an ideal candidate for distributing quantum states. Thus, today's efforts address overcoming issues towards high data transmission and long-distance implementations. Here, we experimentally demonstrate the secret key rate enhancement via space-division multiplexing using a multicore\"\n",
      "      },\n",
      "      {\n",
      "        \"source\": \"\",\n",
      "        \"text\": \" between the experimental state and the stationary thermal symmetric theoretical state, offering direct evidence of subsystem thermalization.\"\n",
      "      }\n",
      "    ]\n",
      "  }\n",
      "]\n"
     ]
    }
   ],
   "source": [
    "result = context_engine.query([query], max_context_tokens=128)\n",
    "print(result.to_text(indent=2))"
   ]
  },
  {
   "cell_type": "code",
   "execution_count": null,
   "metadata": {},
   "outputs": [],
   "source": []
  }
 ],
 "metadata": {
  "kernelspec": {
   "display_name": ".venv",
   "language": "python",
   "name": "python3"
  },
  "language_info": {
   "codemirror_mode": {
    "name": "ipython",
    "version": 3
   },
   "file_extension": ".py",
   "mimetype": "text/x-python",
   "name": "python",
   "nbconvert_exporter": "python",
   "pygments_lexer": "ipython3",
   "version": "3.11.4"
  }
 },
 "nbformat": 4,
 "nbformat_minor": 2
}
